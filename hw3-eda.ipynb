{
 "cells": [
  {
   "cell_type": "code",
   "execution_count": 33,
   "metadata": {},
   "outputs": [],
   "source": [
    "import numpy as np\n",
    "import pandas as pd"
   ]
  },
  {
   "cell_type": "code",
   "execution_count": 34,
   "metadata": {},
   "outputs": [],
   "source": [
    "error=pd.read_csv('C:\\\\Users\\\\Yangq\\\\OneDrive\\\\Desktop\\\\11711-HW3\\\\errorAnalysis.csv')  "
   ]
  },
  {
   "cell_type": "code",
   "execution_count": 35,
   "metadata": {},
   "outputs": [],
   "source": [
    "error['reviewlength']=error['testReview'].str.len()\n"
   ]
  },
  {
   "cell_type": "code",
   "execution_count": 36,
   "metadata": {},
   "outputs": [],
   "source": [
    "error[\"oversize\"]=error['reviewlength']>512"
   ]
  },
  {
   "cell_type": "code",
   "execution_count": 37,
   "metadata": {},
   "outputs": [
    {
     "data": {
      "text/html": [
       "<div>\n",
       "<style scoped>\n",
       "    .dataframe tbody tr th:only-of-type {\n",
       "        vertical-align: middle;\n",
       "    }\n",
       "\n",
       "    .dataframe tbody tr th {\n",
       "        vertical-align: top;\n",
       "    }\n",
       "\n",
       "    .dataframe thead th {\n",
       "        text-align: right;\n",
       "    }\n",
       "</style>\n",
       "<table border=\"1\" class=\"dataframe\">\n",
       "  <thead>\n",
       "    <tr style=\"text-align: right;\">\n",
       "      <th></th>\n",
       "      <th>ifCorrect</th>\n",
       "      <th>groudTruth</th>\n",
       "      <th>pred</th>\n",
       "      <th>testReview</th>\n",
       "      <th>reviewlength</th>\n",
       "      <th>oversize</th>\n",
       "    </tr>\n",
       "  </thead>\n",
       "  <tbody>\n",
       "    <tr>\n",
       "      <th>0</th>\n",
       "      <td>True</td>\n",
       "      <td>0</td>\n",
       "      <td>0</td>\n",
       "      <td>I just purchased this software with a Garmin e...</td>\n",
       "      <td>487</td>\n",
       "      <td>False</td>\n",
       "    </tr>\n",
       "    <tr>\n",
       "      <th>1</th>\n",
       "      <td>True</td>\n",
       "      <td>0</td>\n",
       "      <td>0</td>\n",
       "      <td>For those of you considering buying Money 2002...</td>\n",
       "      <td>1837</td>\n",
       "      <td>True</td>\n",
       "    </tr>\n",
       "    <tr>\n",
       "      <th>2</th>\n",
       "      <td>True</td>\n",
       "      <td>0</td>\n",
       "      <td>0</td>\n",
       "      <td>This program is really amazing. I've tried a l...</td>\n",
       "      <td>1290</td>\n",
       "      <td>True</td>\n",
       "    </tr>\n",
       "    <tr>\n",
       "      <th>3</th>\n",
       "      <td>True</td>\n",
       "      <td>0</td>\n",
       "      <td>0</td>\n",
       "      <td>I enjoy the study notes that accompany the\\nSc...</td>\n",
       "      <td>116</td>\n",
       "      <td>False</td>\n",
       "    </tr>\n",
       "    <tr>\n",
       "      <th>4</th>\n",
       "      <td>True</td>\n",
       "      <td>0</td>\n",
       "      <td>0</td>\n",
       "      <td>I work with autistic children and thus far thi...</td>\n",
       "      <td>242</td>\n",
       "      <td>False</td>\n",
       "    </tr>\n",
       "    <tr>\n",
       "      <th>...</th>\n",
       "      <td>...</td>\n",
       "      <td>...</td>\n",
       "      <td>...</td>\n",
       "      <td>...</td>\n",
       "      <td>...</td>\n",
       "      <td>...</td>\n",
       "    </tr>\n",
       "    <tr>\n",
       "      <th>8443</th>\n",
       "      <td>True</td>\n",
       "      <td>1</td>\n",
       "      <td>1</td>\n",
       "      <td>I'm no expert with taxes, and after using Turb...</td>\n",
       "      <td>907</td>\n",
       "      <td>True</td>\n",
       "    </tr>\n",
       "    <tr>\n",
       "      <th>8444</th>\n",
       "      <td>False</td>\n",
       "      <td>1</td>\n",
       "      <td>0</td>\n",
       "      <td>Danger on Deception Island was very fun. I lik...</td>\n",
       "      <td>639</td>\n",
       "      <td>True</td>\n",
       "    </tr>\n",
       "    <tr>\n",
       "      <th>8445</th>\n",
       "      <td>True</td>\n",
       "      <td>0</td>\n",
       "      <td>0</td>\n",
       "      <td>My girlfriend and I used this software to plan...</td>\n",
       "      <td>383</td>\n",
       "      <td>False</td>\n",
       "    </tr>\n",
       "    <tr>\n",
       "      <th>8446</th>\n",
       "      <td>True</td>\n",
       "      <td>1</td>\n",
       "      <td>1</td>\n",
       "      <td>To be fair - I probably don't use this the \"no...</td>\n",
       "      <td>511</td>\n",
       "      <td>False</td>\n",
       "    </tr>\n",
       "    <tr>\n",
       "      <th>8447</th>\n",
       "      <td>False</td>\n",
       "      <td>1</td>\n",
       "      <td>0</td>\n",
       "      <td>I bought Roxio Easy Media Creator 8.0, and bel...</td>\n",
       "      <td>759</td>\n",
       "      <td>True</td>\n",
       "    </tr>\n",
       "  </tbody>\n",
       "</table>\n",
       "<p>8448 rows × 6 columns</p>\n",
       "</div>"
      ],
      "text/plain": [
       "      ifCorrect  groudTruth  pred  \\\n",
       "0          True           0     0   \n",
       "1          True           0     0   \n",
       "2          True           0     0   \n",
       "3          True           0     0   \n",
       "4          True           0     0   \n",
       "...         ...         ...   ...   \n",
       "8443       True           1     1   \n",
       "8444      False           1     0   \n",
       "8445       True           0     0   \n",
       "8446       True           1     1   \n",
       "8447      False           1     0   \n",
       "\n",
       "                                             testReview  reviewlength  \\\n",
       "0     I just purchased this software with a Garmin e...           487   \n",
       "1     For those of you considering buying Money 2002...          1837   \n",
       "2     This program is really amazing. I've tried a l...          1290   \n",
       "3     I enjoy the study notes that accompany the\\nSc...           116   \n",
       "4     I work with autistic children and thus far thi...           242   \n",
       "...                                                 ...           ...   \n",
       "8443  I'm no expert with taxes, and after using Turb...           907   \n",
       "8444  Danger on Deception Island was very fun. I lik...           639   \n",
       "8445  My girlfriend and I used this software to plan...           383   \n",
       "8446  To be fair - I probably don't use this the \"no...           511   \n",
       "8447  I bought Roxio Easy Media Creator 8.0, and bel...           759   \n",
       "\n",
       "      oversize  \n",
       "0        False  \n",
       "1         True  \n",
       "2         True  \n",
       "3        False  \n",
       "4        False  \n",
       "...        ...  \n",
       "8443      True  \n",
       "8444      True  \n",
       "8445     False  \n",
       "8446     False  \n",
       "8447      True  \n",
       "\n",
       "[8448 rows x 6 columns]"
      ]
     },
     "execution_count": 37,
     "metadata": {},
     "output_type": "execute_result"
    }
   ],
   "source": [
    "error"
   ]
  },
  {
   "cell_type": "code",
   "execution_count": 38,
   "metadata": {},
   "outputs": [],
   "source": [
    "cor_df=error[['ifCorrect','groudTruth','pred','reviewlength','oversize']]"
   ]
  },
  {
   "cell_type": "code",
   "execution_count": 39,
   "metadata": {},
   "outputs": [
    {
     "data": {
      "text/html": [
       "<div>\n",
       "<style scoped>\n",
       "    .dataframe tbody tr th:only-of-type {\n",
       "        vertical-align: middle;\n",
       "    }\n",
       "\n",
       "    .dataframe tbody tr th {\n",
       "        vertical-align: top;\n",
       "    }\n",
       "\n",
       "    .dataframe thead th {\n",
       "        text-align: right;\n",
       "    }\n",
       "</style>\n",
       "<table border=\"1\" class=\"dataframe\">\n",
       "  <thead>\n",
       "    <tr style=\"text-align: right;\">\n",
       "      <th></th>\n",
       "      <th>ifCorrect</th>\n",
       "      <th>groudTruth</th>\n",
       "      <th>pred</th>\n",
       "      <th>reviewlength</th>\n",
       "      <th>oversize</th>\n",
       "    </tr>\n",
       "  </thead>\n",
       "  <tbody>\n",
       "    <tr>\n",
       "      <th>ifCorrect</th>\n",
       "      <td>1.000000</td>\n",
       "      <td>0.012065</td>\n",
       "      <td>0.168547</td>\n",
       "      <td>-0.011026</td>\n",
       "      <td>0.007097</td>\n",
       "    </tr>\n",
       "    <tr>\n",
       "      <th>groudTruth</th>\n",
       "      <td>0.012065</td>\n",
       "      <td>1.000000</td>\n",
       "      <td>0.690515</td>\n",
       "      <td>0.060769</td>\n",
       "      <td>0.066601</td>\n",
       "    </tr>\n",
       "    <tr>\n",
       "      <th>pred</th>\n",
       "      <td>0.168547</td>\n",
       "      <td>0.690515</td>\n",
       "      <td>1.000000</td>\n",
       "      <td>0.035092</td>\n",
       "      <td>0.058137</td>\n",
       "    </tr>\n",
       "    <tr>\n",
       "      <th>reviewlength</th>\n",
       "      <td>-0.011026</td>\n",
       "      <td>0.060769</td>\n",
       "      <td>0.035092</td>\n",
       "      <td>1.000000</td>\n",
       "      <td>0.628585</td>\n",
       "    </tr>\n",
       "    <tr>\n",
       "      <th>oversize</th>\n",
       "      <td>0.007097</td>\n",
       "      <td>0.066601</td>\n",
       "      <td>0.058137</td>\n",
       "      <td>0.628585</td>\n",
       "      <td>1.000000</td>\n",
       "    </tr>\n",
       "  </tbody>\n",
       "</table>\n",
       "</div>"
      ],
      "text/plain": [
       "              ifCorrect  groudTruth      pred  reviewlength  oversize\n",
       "ifCorrect      1.000000    0.012065  0.168547     -0.011026  0.007097\n",
       "groudTruth     0.012065    1.000000  0.690515      0.060769  0.066601\n",
       "pred           0.168547    0.690515  1.000000      0.035092  0.058137\n",
       "reviewlength  -0.011026    0.060769  0.035092      1.000000  0.628585\n",
       "oversize       0.007097    0.066601  0.058137      0.628585  1.000000"
      ]
     },
     "execution_count": 39,
     "metadata": {},
     "output_type": "execute_result"
    }
   ],
   "source": [
    "cor_df.corr()"
   ]
  },
  {
   "cell_type": "code",
   "execution_count": 40,
   "metadata": {},
   "outputs": [],
   "source": [
    "df_agg=cor_df.groupby(['oversize','groudTruth']).mean()"
   ]
  },
  {
   "cell_type": "code",
   "execution_count": 41,
   "metadata": {},
   "outputs": [
    {
     "data": {
      "text/html": [
       "<div>\n",
       "<style scoped>\n",
       "    .dataframe tbody tr th:only-of-type {\n",
       "        vertical-align: middle;\n",
       "    }\n",
       "\n",
       "    .dataframe tbody tr th {\n",
       "        vertical-align: top;\n",
       "    }\n",
       "\n",
       "    .dataframe thead th {\n",
       "        text-align: right;\n",
       "    }\n",
       "</style>\n",
       "<table border=\"1\" class=\"dataframe\">\n",
       "  <thead>\n",
       "    <tr style=\"text-align: right;\">\n",
       "      <th></th>\n",
       "      <th></th>\n",
       "      <th>ifCorrect</th>\n",
       "      <th>pred</th>\n",
       "      <th>reviewlength</th>\n",
       "    </tr>\n",
       "    <tr>\n",
       "      <th>oversize</th>\n",
       "      <th>groudTruth</th>\n",
       "      <th></th>\n",
       "      <th></th>\n",
       "      <th></th>\n",
       "    </tr>\n",
       "  </thead>\n",
       "  <tbody>\n",
       "    <tr>\n",
       "      <th rowspan=\"2\" valign=\"top\">False</th>\n",
       "      <th>0</th>\n",
       "      <td>0.850027</td>\n",
       "      <td>0.149973</td>\n",
       "      <td>228.131762</td>\n",
       "    </tr>\n",
       "    <tr>\n",
       "      <th>1</th>\n",
       "      <td>0.848306</td>\n",
       "      <td>0.848306</td>\n",
       "      <td>268.879971</td>\n",
       "    </tr>\n",
       "    <tr>\n",
       "      <th rowspan=\"2\" valign=\"top\">True</th>\n",
       "      <th>0</th>\n",
       "      <td>0.839879</td>\n",
       "      <td>0.160121</td>\n",
       "      <td>1195.503776</td>\n",
       "    </tr>\n",
       "    <tr>\n",
       "      <th>1</th>\n",
       "      <td>0.861472</td>\n",
       "      <td>0.861472</td>\n",
       "      <td>1210.918930</td>\n",
       "    </tr>\n",
       "  </tbody>\n",
       "</table>\n",
       "</div>"
      ],
      "text/plain": [
       "                     ifCorrect      pred  reviewlength\n",
       "oversize groudTruth                                   \n",
       "False    0            0.850027  0.149973    228.131762\n",
       "         1            0.848306  0.848306    268.879971\n",
       "True     0            0.839879  0.160121   1195.503776\n",
       "         1            0.861472  0.861472   1210.918930"
      ]
     },
     "execution_count": 41,
     "metadata": {},
     "output_type": "execute_result"
    }
   ],
   "source": [
    "df_agg"
   ]
  },
  {
   "cell_type": "code",
   "execution_count": 42,
   "metadata": {},
   "outputs": [
    {
     "data": {
      "text/html": [
       "<div>\n",
       "<style scoped>\n",
       "    .dataframe tbody tr th:only-of-type {\n",
       "        vertical-align: middle;\n",
       "    }\n",
       "\n",
       "    .dataframe tbody tr th {\n",
       "        vertical-align: top;\n",
       "    }\n",
       "\n",
       "    .dataframe thead th {\n",
       "        text-align: right;\n",
       "    }\n",
       "</style>\n",
       "<table border=\"1\" class=\"dataframe\">\n",
       "  <thead>\n",
       "    <tr style=\"text-align: right;\">\n",
       "      <th></th>\n",
       "      <th></th>\n",
       "      <th>ifCorrect</th>\n",
       "      <th>pred</th>\n",
       "      <th>reviewlength</th>\n",
       "    </tr>\n",
       "    <tr>\n",
       "      <th>oversize</th>\n",
       "      <th>groudTruth</th>\n",
       "      <th></th>\n",
       "      <th></th>\n",
       "      <th></th>\n",
       "    </tr>\n",
       "  </thead>\n",
       "  <tbody>\n",
       "    <tr>\n",
       "      <th rowspan=\"2\" valign=\"top\">False</th>\n",
       "      <th>0</th>\n",
       "      <td>1867</td>\n",
       "      <td>1867</td>\n",
       "      <td>1867</td>\n",
       "    </tr>\n",
       "    <tr>\n",
       "      <th>1</th>\n",
       "      <td>2716</td>\n",
       "      <td>2716</td>\n",
       "      <td>2716</td>\n",
       "    </tr>\n",
       "    <tr>\n",
       "      <th rowspan=\"2\" valign=\"top\">True</th>\n",
       "      <th>0</th>\n",
       "      <td>1324</td>\n",
       "      <td>1324</td>\n",
       "      <td>1324</td>\n",
       "    </tr>\n",
       "    <tr>\n",
       "      <th>1</th>\n",
       "      <td>2541</td>\n",
       "      <td>2541</td>\n",
       "      <td>2541</td>\n",
       "    </tr>\n",
       "  </tbody>\n",
       "</table>\n",
       "</div>"
      ],
      "text/plain": [
       "                     ifCorrect  pred  reviewlength\n",
       "oversize groudTruth                               \n",
       "False    0                1867  1867          1867\n",
       "         1                2716  2716          2716\n",
       "True     0                1324  1324          1324\n",
       "         1                2541  2541          2541"
      ]
     },
     "execution_count": 42,
     "metadata": {},
     "output_type": "execute_result"
    }
   ],
   "source": [
    "cor_df.groupby(['oversize','groudTruth']).count()"
   ]
  },
  {
   "cell_type": "code",
   "execution_count": 48,
   "metadata": {},
   "outputs": [],
   "source": [
    "df_oversize_neg=error[(error['oversize']==1) & (error['groudTruth']==0)]['ifCorrect']\n",
    "df_oversize_pos=error[(error['oversize']==1) & (error['groudTruth']==1)]['ifCorrect']\n",
    "df_norsize_neg=error[(error['oversize']==0) & (error['groudTruth']==0)]['ifCorrect']\n",
    "df_norsize_pos=error[(error['oversize']==0) & (error['groudTruth']==1)]['ifCorrect']"
   ]
  },
  {
   "cell_type": "code",
   "execution_count": 49,
   "metadata": {},
   "outputs": [
    {
     "data": {
      "text/plain": [
       "(-0.781925785197804, 0.43425819025487666)"
      ]
     },
     "execution_count": 49,
     "metadata": {},
     "output_type": "execute_result"
    }
   ],
   "source": [
    "from statsmodels.stats.weightstats import ztest as ztest\n",
    "ztest(df_oversize_neg, df_norsize_neg, value=0)\n"
   ]
  },
  {
   "cell_type": "code",
   "execution_count": 50,
   "metadata": {},
   "outputs": [
    {
     "data": {
      "text/plain": [
       "(1.3534825907314925, 0.1759015080548355)"
      ]
     },
     "execution_count": 50,
     "metadata": {},
     "output_type": "execute_result"
    }
   ],
   "source": [
    "ztest(df_oversize_pos, df_norsize_pos, value=0)\n"
   ]
  },
  {
   "cell_type": "code",
   "execution_count": null,
   "metadata": {},
   "outputs": [],
   "source": []
  }
 ],
 "metadata": {
  "kernelspec": {
   "display_name": "Python 3",
   "language": "python",
   "name": "python3"
  },
  "language_info": {
   "codemirror_mode": {
    "name": "ipython",
    "version": 3
   },
   "file_extension": ".py",
   "mimetype": "text/x-python",
   "name": "python",
   "nbconvert_exporter": "python",
   "pygments_lexer": "ipython3",
   "version": "3.7.6"
  }
 },
 "nbformat": 4,
 "nbformat_minor": 4
}
